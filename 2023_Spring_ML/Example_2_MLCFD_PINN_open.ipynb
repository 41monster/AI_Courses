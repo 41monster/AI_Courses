{
  "cells": [
    {
      "cell_type": "markdown",
      "metadata": {
        "id": "view-in-github",
        "colab_type": "text"
      },
      "source": [
        "<a href=\"https://colab.research.google.com/github/41monster/ML_Spring_2023/blob/main/Example_2_MLCFD_PINN_open.ipynb\" target=\"_parent\"><img src=\"https://colab.research.google.com/assets/colab-badge.svg\" alt=\"Open In Colab\"/></a>"
      ]
    },
    {
      "cell_type": "code",
      "execution_count": 1,
      "metadata": {
        "id": "5Bl0k1tqDZOU",
        "colab": {
          "base_uri": "https://localhost:8080/"
        },
        "outputId": "cfd8f75b-79c5-4e68-df81-5d3c5d8b5ba9"
      },
      "outputs": [
        {
          "output_type": "stream",
          "name": "stdout",
          "text": [
            "Drive already mounted at /content/drive; to attempt to forcibly remount, call drive.mount(\"/content/drive\", force_remount=True).\n"
          ]
        }
      ],
      "source": [
        "import tensorflow as tf\n",
        "from tensorflow import keras\n",
        "from tensorflow.keras import layers, Input, Model\n",
        "import numpy as np\n",
        "import pandas as pd\n",
        "from tensorflow.keras.callbacks import ModelCheckpoint\n",
        "import random\n",
        "from google.colab import drive\n",
        "drive.mount('/content/drive')"
      ]
    },
    {
      "cell_type": "code",
      "source": [
        "# preprocessing of training dataset\n",
        "# CFD data(excel) load\n",
        "filename = '/content/drive/My Drive/Colab Notebooks/Dataset_example_1.00_1.01sec_3input.xlsx'\n",
        "pre_dataset = pd.read_excel(filename)\n",
        "\n",
        "# train_stats for normalization\n",
        "train_stats = pre_dataset.describe()\n",
        "train_stats.pop(\"p\")\n",
        "train_stats.pop(\"ux\")\n",
        "train_stats.pop(\"uy\")\n",
        "train_stats = train_stats.transpose()\n",
        "\n",
        "# train label\n",
        "dataset = pre_dataset\n",
        "train_labels_p = dataset.pop(\"p\")\n",
        "train_labels_u = dataset.pop(\"ux\")\n",
        "train_labels_v = dataset.pop(\"uy\")\n",
        "\n",
        "# concat train labels (for subclass model)\n",
        "train_labels_p_re = tf.reshape(train_labels_p, shape=[-1,1])\n",
        "train_labels_u_re = tf.reshape(train_labels_u, shape=[-1,1])\n",
        "train_labels_v_re = tf.reshape(train_labels_v, shape=[-1,1])\n",
        "train_labels = np.concatenate((train_labels_p_re, train_labels_u_re,train_labels_v_re),axis=1)\n",
        "\n",
        "# normalization\n",
        "def norm(x):\n",
        "    return (x-train_stats['mean'])/train_stats['std']\n",
        "normed_train_data = norm(dataset)\n",
        "normed_train_data_re= tf.reshape(normed_train_data, shape=[-1,15])\n",
        "dataset_re = tf.reshape(dataset, shape=[-1,15])"
      ],
      "metadata": {
        "id": "56RlHfwV0rtx"
      },
      "execution_count": 2,
      "outputs": []
    },
    {
      "cell_type": "code",
      "execution_count": 3,
      "metadata": {
        "id": "kQtnkRPKDZOV"
      },
      "outputs": [],
      "source": [
        "# input data (normed, raw)\n",
        "x_sum = np.concatenate((normed_train_data_re, dataset_re[:,0:1], dataset_re[:,5:6], dataset_re[:,10:11]),axis=1)\n",
        "# output data\n",
        "y_sum = train_labels\n",
        "\n",
        "from sklearn.model_selection import train_test_split\n",
        "x, x_val, y, y_val = train_test_split(x_sum,y_sum,test_size=0.2, random_state = 1004)\n",
        "x_pinn = x_sum\n",
        "y_pinn = y_sum"
      ]
    },
    {
      "cell_type": "code",
      "execution_count": 4,
      "metadata": {
        "id": "VjbKxgSeDZOW"
      },
      "outputs": [],
      "source": [
        "# build 6 individual network models\n",
        "# network architecture was determined in previous optimization study\n",
        "net_p = keras.Sequential(\n",
        "    [\n",
        "        layers.Dense(64, activation='relu', input_shape=(15,)),\n",
        "        layers.Dense(64, activation='relu'),\n",
        "        layers.Dense(1)   \n",
        "    ],\n",
        "    name=\"net_p\",\n",
        ")\n",
        "\n",
        "net_u = keras.Sequential(\n",
        "    [\n",
        "        layers.Dense(64, activation='relu', input_shape=(15,)),\n",
        "        layers.Dense(64, activation='relu'),\n",
        "        layers.Dense(1)   \n",
        "    ],\n",
        "    name=\"net_u\",\n",
        ")\n",
        "\n",
        "net_v = keras.Sequential(\n",
        "    [\n",
        "        layers.Dense(64, activation='relu', input_shape=(15,)),\n",
        "        layers.Dense(64, activation='relu'),\n",
        "        layers.Dense(1)   \n",
        "    ],\n",
        "    name=\"net_v\",\n",
        ")\n"
      ]
    },
    {
      "cell_type": "code",
      "execution_count": 14,
      "metadata": {
        "id": "vEOeNxpIDZOX"
      },
      "outputs": [],
      "source": [
        "# loss_tracker for monotoring during training\n",
        "loss_tracker = keras.metrics.Mean(name=\"loss\")\n",
        "loss_tracker_2 = keras.metrics.Mean(name=\"loss\")\n",
        "loss_tracker_3 = keras.metrics.Mean(name=\"loss\")\n",
        "mae_metric = keras.metrics.MeanAbsoluteError(name=\"mae\")\n",
        "\n",
        "# PINN algorithm\n",
        "class FVMN_PINNs(keras.Model):\n",
        "    def __init__(self, net_p, net_u, net_v, Rs, x_val=x_val, y_val=y_val, x_pinn=x_pinn, y_pinn=y_pinn):\n",
        "        super(FVMN_PINNs, self).__init__()          \n",
        "        self.net_p = net_p\n",
        "        self.net_u = net_u\n",
        "        self.net_v = net_v\n",
        "        self.Rs = Rs\n",
        "        self.x_val = x_val\n",
        "        self.y_val = y_val\n",
        "        self.x_pinn = x_pinn\n",
        "        self.y_pinn = y_pinn\n",
        "    \n",
        "    def call(self,x):\n",
        "        x = self.net_p(x)\n",
        "        x = self.net_u(x)\n",
        "        x = self.net_v(x)\n",
        " \n",
        "    def train_step(self, data):\n",
        "        x_pre, y = data\n",
        "        # the order of the variables depends on the dataset.\n",
        "        x = x_pre[:,0:15]\n",
        "        x_ex = x_pre[:,15:18]\n",
        "        x_ex = tf.cast(x_ex, dtype='float32')\n",
        "        \n",
        "        y_p = y[:,0:1]\n",
        "        y_u = y[:,1:2] \n",
        "        y_v = y[:,2:3]\n",
        "         \n",
        "        with tf.GradientTape(persistent=True) as tape:\n",
        "            #multi grads calculation: persistent=True\n",
        "            y_pred_p = self.net_p(x)\n",
        "            y_pred_u = self.net_u(x)  # Forward pass\n",
        "            y_pred_v = self.net_v(x)\n",
        "            \n",
        "            # Calculate loss in batches.\n",
        "            loss_p_mse = tf.reduce_mean(tf.square(y_p-y_pred_p), axis = 0)\n",
        "            loss_u_mse = tf.reduce_mean(tf.square(y_u-y_pred_u), axis = 0)\n",
        "            loss_v_mse = tf.reduce_mean(tf.square(y_v-y_pred_v), axis = 0)\n",
        "                       \n",
        "            # loss for training\n",
        "            loss_p = loss_p_mse\n",
        "            loss_u = loss_u_mse\n",
        "            loss_v = loss_v_mse\n",
        "            \n",
        "            loss_tot = loss_p + loss_u + loss_v\n",
        "        \n",
        "            # conservation loss \n",
        "            x_pinn_pre = self.x_pinn\n",
        "            y_pinn = self.y_pinn           \n",
        "            x_pinn = x_pinn_pre[:,0:15]\n",
        "            x_pinn_ex = x_pinn_pre[:,15:18]\n",
        "        \n",
        "            #multi grads calculation: persistent=True\n",
        "            y_pred_pinn_p = self.net_p(x_pinn)\n",
        "            y_pred_pinn_u = self.net_u(x_pinn)\n",
        "            y_pred_pinn_v = self.net_v(x_pinn)\n",
        "            \n",
        "            # Residual error calculation\n",
        "            y_pred_pinn_p_ex = y_pred_pinn_p + x_pinn_ex[:,0:1]\n",
        "            y_pred_pinn_u_ex = y_pred_pinn_u + x_pinn_ex[:,1:2]\n",
        "            y_pred_pinn_v_ex = y_pred_pinn_v + x_pinn_ex[:,2:3]\n",
        "        \n",
        "            y_pred_pinn_p_tf = tf.reshape(y_pred_pinn_p_ex, [180,100]) #180\n",
        "            y_pred_pinn_u_tf = tf.reshape(y_pred_pinn_u_ex, [180,100])\n",
        "            y_pred_pinn_v_tf = tf.reshape(y_pred_pinn_v_ex, [180,100])\n",
        "            \n",
        "            # continuity residual error (incompressible flow)\n",
        "            y_pred_pinn_u_diff = y_pred_pinn_u_tf[2:180,1:-1] - y_pred_pinn_u_tf[0:178,1:-1] \n",
        "            y_pred_pinn_v_diff = y_pred_pinn_v_tf[1:179,2:] - y_pred_pinn_v_tf[1:179,:-2]\n",
        "            \n",
        "            # momentum balance residual error (incompressible flow)\n",
        "            y_mom_1_tf = tf.reshape(y_pred_pinn_u, [180,100])\n",
        "            y_mom_2_tf = tf.reshape(y_pred_pinn_v, [180,100])\n",
        "        \n",
        "            y_mom_1 = y_mom_1_tf[1:179,1:-1]\n",
        "            y_mom_2 = y_mom_2_tf[1:179,1:-1]\n",
        "            y_mom_3_1 = y_pred_pinn_u_tf[1:179,1:-1]\n",
        "            y_mom_3_2 = y_pred_pinn_u_tf[2:180,1:-1] - y_pred_pinn_u_tf[0:178,1:-1] + y_pred_pinn_v_tf[2:180,1:-1] - y_pred_pinn_v_tf[0:178,1:-1]\n",
        "            y_mom_3 = y_mom_3_1*y_mom_3_2\n",
        "            y_mom_4_1 = y_pred_pinn_v_tf[1:179,1:-1]\n",
        "            y_mom_4_2 = y_pred_pinn_v_tf[1:179,2:] - y_pred_pinn_v_tf[1:179,:-2] + y_pred_pinn_u_tf[1:179,2:] - y_pred_pinn_u_tf[1:179,:-2]\n",
        "            y_mom_4 = y_mom_4_1*y_mom_4_2\n",
        "            y_mom_5_1 = y_pred_pinn_u_tf[2:180,1:-1]-2*y_pred_pinn_u_tf[1:179,1:-1]+y_pred_pinn_u_tf[0:178,1:-1]+y_pred_pinn_v_tf[2:180,1:-1]-2*y_pred_pinn_v_tf[1:179,1:-1]+y_pred_pinn_v_tf[0:178,1:-1]\n",
        "            y_mom_5_2 = y_pred_pinn_u_tf[1:179,2:]-2*y_pred_pinn_u_tf[1:179,1:-1]+y_pred_pinn_u_tf[1:179,:-2]+ y_pred_pinn_v_tf[1:179,2:]-2*y_pred_pinn_v_tf[1:179,1:-1]+y_pred_pinn_v_tf[1:179,:-2]\n",
        "            y_mom_5 = 0.01*(y_mom_5_1+y_mom_5_2)\n",
        "            y_mom_6 = y_pred_pinn_p_tf[2:180,1:-1] - y_pred_pinn_p_tf[0:178,1:-1] + y_pred_pinn_p_tf[1:179,2:] - y_pred_pinn_p_tf[1:179,:-2]\n",
        "            \n",
        "            y_mom_tot_1 = y_mom_1 + y_mom_2 + y_mom_3/2 + y_mom_4/2 - y_mom_5*100 + y_mom_6/2\n",
        "        \n",
        "            # due to uniform mesh\n",
        "            Rs_c_1 = y_pred_pinn_u_diff + y_pred_pinn_v_diff\n",
        "            Rs_c = Rs_c_1\n",
        "            Rs_m = y_mom_tot_1\n",
        "    \n",
        "            Rs_tot_c = tf.reduce_mean(tf.square(Rs_c), axis = 0)\n",
        "            Rs_tot_m = tf.reduce_mean(tf.square(Rs_m), axis = 0)\n",
        "            Rs_tot = Rs_tot_c*0.1 + Rs_tot_m #0.1은 Rs_c와의 scale 보정\n",
        "            \n",
        "            loss_p_pinn = loss_p+ Rs_tot*0.1\n",
        "            loss_u_pinn = loss_u+ Rs_tot*0.1\n",
        "            loss_v_pinn = loss_v+ Rs_tot*0.1\n",
        "            \n",
        "            loss_tot_pinn = loss_p_pinn + loss_u_pinn + loss_v_pinn\n",
        "        \n",
        "        # Compute gradients\n",
        "        trainable_vars_p = self.net_p.trainable_variables\n",
        "        trainable_vars_u = self.net_u.trainable_variables\n",
        "        trainable_vars_v = self.net_v.trainable_variables \n",
        "        \n",
        "        gradients_p = tape.gradient(loss_p_pinn, trainable_vars_p)\n",
        "        gradients_u = tape.gradient(loss_u_pinn, trainable_vars_u)\n",
        "        gradients_v = tape.gradient(loss_v_pinn, trainable_vars_v)\n",
        "\n",
        "        # Update weights\n",
        "        self.optimizer.apply_gradients(zip(gradients_p, trainable_vars_p))\n",
        "        self.optimizer.apply_gradients(zip(gradients_u, trainable_vars_u))\n",
        "        self.optimizer.apply_gradients(zip(gradients_v, trainable_vars_v))\n",
        "        \n",
        "        #validation loss\n",
        "        x_val = self.x_val\n",
        "        y_val = self.y_val \n",
        "\n",
        "        x_val_2 = x_val[:,0:15]      \n",
        "        y_val_p = y_val[:,0:1]\n",
        "        y_val_u = y_val[:,1:2] \n",
        "        y_val_v = y_val[:,2:3]\n",
        "        \n",
        "        y_val_pred_p = self.net_p(x_val_2)\n",
        "        y_val_pred_u = self.net_u(x_val_2)  # Forward pass\n",
        "        y_val_pred_v = self.net_v(x_val_2)\n",
        "    \n",
        "        loss_val_p_mse = tf.reduce_mean(tf.square(y_val_p-y_val_pred_p), axis = 0)\n",
        "        loss_val_u_mse = tf.reduce_mean(tf.square(y_val_u-y_val_pred_u), axis = 0)\n",
        "        loss_val_v_mse = tf.reduce_mean(tf.square(y_val_v-y_val_pred_v), axis = 0)\n",
        "        \n",
        "        val_loss = loss_val_p_mse + loss_val_u_mse + loss_val_v_mse\n",
        "    \n",
        "        #validation loss = validation loss + conservation error\n",
        "        #Rs = self.Rs\n",
        "        #val_loss = val_loss_pre + Rs_tot*Rs\n",
        "    \n",
        "        # loss, mse for epochs monitoring\n",
        "        loss_tracker.update_state(val_loss) #Rs_tot\n",
        "        loss_tracker_2.update_state(Rs_tot)\n",
        "        loss_tracker_3.update_state(loss_tot)\n",
        "\n",
        "        #mae_metric.update_state(y_u, y_pred_u)            \n",
        "        #return {\"loss\": loss_tracker.result(), \"mae\": mae_metric.result()}          \n",
        "        return {\"custom_val_loss\": loss_tracker.result(), \"Rs_tot\": loss_tracker_2.result(), \"custom_loss_tot\": loss_tracker_3.result()}\n",
        "\n",
        "    @property\n",
        "    #1epoch 1 initialization: https://stackoverflow.com/questions/57248723/why-there-is-sudden-drop-in-loss-after-every-epoch\n",
        "    def metrics(self):\n",
        "        return [loss_tracker, loss_tracker_2, loss_tracker_3] # `reset_states()` can be called automatically at the start of each epoch"
      ]
    },
    {
      "cell_type": "code",
      "source": [
        "import os\n",
        "checkpoint_path =  './MLCFD-PINN_test'\n",
        "\n",
        "checkpoint_dir = os.path.dirname(checkpoint_path)\n",
        "cp_callback = tf.keras.callbacks.ModelCheckpoint(filepath=checkpoint_path,\n",
        "                                   save_weights_only=True, save_best_only=True, monitor = 'custom_val_loss',\n",
        "                                   verbose=1)"
      ],
      "metadata": {
        "id": "D5pUurDI4R_a"
      },
      "execution_count": 15,
      "outputs": []
    },
    {
      "cell_type": "code",
      "source": [
        "# check data size\n",
        "print(tf.shape(x))\n",
        "print(tf.shape(y))\n",
        "print(tf.shape(x_val))\n",
        "print(tf.shape(y_val))\n",
        "print(tf.shape(x_pinn))\n",
        "print(tf.shape(y_pinn))"
      ],
      "metadata": {
        "colab": {
          "base_uri": "https://localhost:8080/"
        },
        "id": "NB_PpGaU5gjm",
        "outputId": "d05efbe8-f2ea-4e73-f075-7de11fc223c6"
      },
      "execution_count": 7,
      "outputs": [
        {
          "output_type": "stream",
          "name": "stdout",
          "text": [
            "tf.Tensor([14400    18], shape=(2,), dtype=int32)\n",
            "tf.Tensor([14400     3], shape=(2,), dtype=int32)\n",
            "tf.Tensor([3600   18], shape=(2,), dtype=int32)\n",
            "tf.Tensor([3600    3], shape=(2,), dtype=int32)\n",
            "tf.Tensor([18000    18], shape=(2,), dtype=int32)\n",
            "tf.Tensor([18000     3], shape=(2,), dtype=int32)\n"
          ]
        }
      ]
    },
    {
      "cell_type": "code",
      "source": [
        "# model fit\n",
        "model = FVMN_PINNs(net_p=net_p, net_u=net_u,net_v=net_v, Rs =0.001, x_val=x_val, y_val=y_val, x_pinn = x_pinn,y_pinn = y_pinn )\n",
        "#model.compile(optimizer= 'adam' )\n",
        "model.compile(optimizer=tf.keras.optimizers.legacy.Adam(learning_rate=0.001) )\n",
        "history = model.fit(x, y,batch_size=100, epochs=5, callbacks=[cp_callback]) # no validation data arguments"
      ],
      "metadata": {
        "colab": {
          "base_uri": "https://localhost:8080/"
        },
        "id": "BkGxXcXX4UHG",
        "outputId": "378f539c-d52c-48dc-9fd3-c1d676235a1c"
      },
      "execution_count": 17,
      "outputs": [
        {
          "output_type": "stream",
          "name": "stdout",
          "text": [
            "Epoch 1/5\n",
            "144/144 [==============================] - ETA: 0s - custom_val_loss: 9.5612 - Rs_tot: 85.5241 - custom_loss_tot: 9.4901\n",
            "Epoch 1: custom_val_loss did not improve from 9.52460\n",
            "144/144 [==============================] - 10s 59ms/step - custom_val_loss: 9.5610 - Rs_tot: 85.5238 - custom_loss_tot: 9.4902\n",
            "Epoch 2/5\n",
            "144/144 [==============================] - ETA: 0s - custom_val_loss: 9.4857 - Rs_tot: 85.6689 - custom_loss_tot: 9.4714\n",
            "Epoch 2: custom_val_loss improved from 9.52460 to 9.52180, saving model to ./MLCFD-PINN_test\n",
            "144/144 [==============================] - 8s 57ms/step - custom_val_loss: 9.4860 - Rs_tot: 85.6660 - custom_loss_tot: 9.4714\n",
            "Epoch 3/5\n",
            "143/144 [============================>.] - ETA: 0s - custom_val_loss: 9.4418 - Rs_tot: 85.7609 - custom_loss_tot: 9.4445\n",
            "Epoch 3: custom_val_loss improved from 9.52180 to 9.51115, saving model to ./MLCFD-PINN_test\n",
            "144/144 [==============================] - 9s 66ms/step - custom_val_loss: 9.4428 - Rs_tot: 85.7558 - custom_loss_tot: 9.4447\n",
            "Epoch 4/5\n",
            "144/144 [==============================] - ETA: 0s - custom_val_loss: 9.5133 - Rs_tot: 84.8459 - custom_loss_tot: 9.3610\n",
            "Epoch 4: custom_val_loss improved from 9.51115 to 9.48831, saving model to ./MLCFD-PINN_test\n",
            "144/144 [==============================] - 8s 57ms/step - custom_val_loss: 9.5131 - Rs_tot: 84.8465 - custom_loss_tot: 9.3617\n",
            "Epoch 5/5\n",
            "144/144 [==============================] - ETA: 0s - custom_val_loss: 9.4634 - Rs_tot: 85.4398 - custom_loss_tot: 9.3878\n",
            "Epoch 5: custom_val_loss did not improve from 9.48831\n",
            "144/144 [==============================] - 9s 63ms/step - custom_val_loss: 9.4636 - Rs_tot: 85.4373 - custom_loss_tot: 9.3882\n"
          ]
        }
      ]
    },
    {
      "cell_type": "code",
      "execution_count": 18,
      "metadata": {
        "id": "pbrXC4BgzCFF",
        "colab": {
          "base_uri": "https://localhost:8080/",
          "height": 206
        },
        "outputId": "082f78ac-2d61-4f1d-f16b-ad30eb706a1b"
      },
      "outputs": [
        {
          "output_type": "execute_result",
          "data": {
            "text/plain": [
              "   custom_val_loss     Rs_tot  custom_loss_tot  epoch\n",
              "0         9.538097  85.472145         9.494598      0\n",
              "1         9.521800  85.261658         9.479051      1\n",
              "2         9.511150  85.387199         9.457859      2\n",
              "3         9.488312  84.931717         9.454182      3\n",
              "4         9.488510  85.079620         9.443867      4"
            ],
            "text/html": [
              "\n",
              "  <div id=\"df-afb57ba6-84f2-4604-be9f-7a6b6a1745e5\">\n",
              "    <div class=\"colab-df-container\">\n",
              "      <div>\n",
              "<style scoped>\n",
              "    .dataframe tbody tr th:only-of-type {\n",
              "        vertical-align: middle;\n",
              "    }\n",
              "\n",
              "    .dataframe tbody tr th {\n",
              "        vertical-align: top;\n",
              "    }\n",
              "\n",
              "    .dataframe thead th {\n",
              "        text-align: right;\n",
              "    }\n",
              "</style>\n",
              "<table border=\"1\" class=\"dataframe\">\n",
              "  <thead>\n",
              "    <tr style=\"text-align: right;\">\n",
              "      <th></th>\n",
              "      <th>custom_val_loss</th>\n",
              "      <th>Rs_tot</th>\n",
              "      <th>custom_loss_tot</th>\n",
              "      <th>epoch</th>\n",
              "    </tr>\n",
              "  </thead>\n",
              "  <tbody>\n",
              "    <tr>\n",
              "      <th>0</th>\n",
              "      <td>9.538097</td>\n",
              "      <td>85.472145</td>\n",
              "      <td>9.494598</td>\n",
              "      <td>0</td>\n",
              "    </tr>\n",
              "    <tr>\n",
              "      <th>1</th>\n",
              "      <td>9.521800</td>\n",
              "      <td>85.261658</td>\n",
              "      <td>9.479051</td>\n",
              "      <td>1</td>\n",
              "    </tr>\n",
              "    <tr>\n",
              "      <th>2</th>\n",
              "      <td>9.511150</td>\n",
              "      <td>85.387199</td>\n",
              "      <td>9.457859</td>\n",
              "      <td>2</td>\n",
              "    </tr>\n",
              "    <tr>\n",
              "      <th>3</th>\n",
              "      <td>9.488312</td>\n",
              "      <td>84.931717</td>\n",
              "      <td>9.454182</td>\n",
              "      <td>3</td>\n",
              "    </tr>\n",
              "    <tr>\n",
              "      <th>4</th>\n",
              "      <td>9.488510</td>\n",
              "      <td>85.079620</td>\n",
              "      <td>9.443867</td>\n",
              "      <td>4</td>\n",
              "    </tr>\n",
              "  </tbody>\n",
              "</table>\n",
              "</div>\n",
              "      <button class=\"colab-df-convert\" onclick=\"convertToInteractive('df-afb57ba6-84f2-4604-be9f-7a6b6a1745e5')\"\n",
              "              title=\"Convert this dataframe to an interactive table.\"\n",
              "              style=\"display:none;\">\n",
              "        \n",
              "  <svg xmlns=\"http://www.w3.org/2000/svg\" height=\"24px\"viewBox=\"0 0 24 24\"\n",
              "       width=\"24px\">\n",
              "    <path d=\"M0 0h24v24H0V0z\" fill=\"none\"/>\n",
              "    <path d=\"M18.56 5.44l.94 2.06.94-2.06 2.06-.94-2.06-.94-.94-2.06-.94 2.06-2.06.94zm-11 1L8.5 8.5l.94-2.06 2.06-.94-2.06-.94L8.5 2.5l-.94 2.06-2.06.94zm10 10l.94 2.06.94-2.06 2.06-.94-2.06-.94-.94-2.06-.94 2.06-2.06.94z\"/><path d=\"M17.41 7.96l-1.37-1.37c-.4-.4-.92-.59-1.43-.59-.52 0-1.04.2-1.43.59L10.3 9.45l-7.72 7.72c-.78.78-.78 2.05 0 2.83L4 21.41c.39.39.9.59 1.41.59.51 0 1.02-.2 1.41-.59l7.78-7.78 2.81-2.81c.8-.78.8-2.07 0-2.86zM5.41 20L4 18.59l7.72-7.72 1.47 1.35L5.41 20z\"/>\n",
              "  </svg>\n",
              "      </button>\n",
              "      \n",
              "  <style>\n",
              "    .colab-df-container {\n",
              "      display:flex;\n",
              "      flex-wrap:wrap;\n",
              "      gap: 12px;\n",
              "    }\n",
              "\n",
              "    .colab-df-convert {\n",
              "      background-color: #E8F0FE;\n",
              "      border: none;\n",
              "      border-radius: 50%;\n",
              "      cursor: pointer;\n",
              "      display: none;\n",
              "      fill: #1967D2;\n",
              "      height: 32px;\n",
              "      padding: 0 0 0 0;\n",
              "      width: 32px;\n",
              "    }\n",
              "\n",
              "    .colab-df-convert:hover {\n",
              "      background-color: #E2EBFA;\n",
              "      box-shadow: 0px 1px 2px rgba(60, 64, 67, 0.3), 0px 1px 3px 1px rgba(60, 64, 67, 0.15);\n",
              "      fill: #174EA6;\n",
              "    }\n",
              "\n",
              "    [theme=dark] .colab-df-convert {\n",
              "      background-color: #3B4455;\n",
              "      fill: #D2E3FC;\n",
              "    }\n",
              "\n",
              "    [theme=dark] .colab-df-convert:hover {\n",
              "      background-color: #434B5C;\n",
              "      box-shadow: 0px 1px 3px 1px rgba(0, 0, 0, 0.15);\n",
              "      filter: drop-shadow(0px 1px 2px rgba(0, 0, 0, 0.3));\n",
              "      fill: #FFFFFF;\n",
              "    }\n",
              "  </style>\n",
              "\n",
              "      <script>\n",
              "        const buttonEl =\n",
              "          document.querySelector('#df-afb57ba6-84f2-4604-be9f-7a6b6a1745e5 button.colab-df-convert');\n",
              "        buttonEl.style.display =\n",
              "          google.colab.kernel.accessAllowed ? 'block' : 'none';\n",
              "\n",
              "        async function convertToInteractive(key) {\n",
              "          const element = document.querySelector('#df-afb57ba6-84f2-4604-be9f-7a6b6a1745e5');\n",
              "          const dataTable =\n",
              "            await google.colab.kernel.invokeFunction('convertToInteractive',\n",
              "                                                     [key], {});\n",
              "          if (!dataTable) return;\n",
              "\n",
              "          const docLinkHtml = 'Like what you see? Visit the ' +\n",
              "            '<a target=\"_blank\" href=https://colab.research.google.com/notebooks/data_table.ipynb>data table notebook</a>'\n",
              "            + ' to learn more about interactive tables.';\n",
              "          element.innerHTML = '';\n",
              "          dataTable['output_type'] = 'display_data';\n",
              "          await google.colab.output.renderOutput(dataTable, element);\n",
              "          const docLink = document.createElement('div');\n",
              "          docLink.innerHTML = docLinkHtml;\n",
              "          element.appendChild(docLink);\n",
              "        }\n",
              "      </script>\n",
              "    </div>\n",
              "  </div>\n",
              "  "
            ]
          },
          "metadata": {},
          "execution_count": 18
        }
      ],
      "source": [
        "# check val_loss with epoch\n",
        "hist = pd.DataFrame(history.history)\n",
        "hist['epoch'] = history.epoch\n",
        "hist"
      ]
    },
    {
      "cell_type": "code",
      "source": [
        "import matplotlib.pyplot as plt\n",
        "# prediction for training datset\n",
        "model.load_weights(\"./MLCFD-PINN_test\")\n",
        "\n",
        "# train data results plot\n",
        "x_pinn_test=x_pinn[:,0:15]\n",
        "y_pinn_test=y_pinn[:, 0:1]\n",
        "train_predictions = model.net_p(x_pinn_test)\n",
        "\n",
        "plt.scatter(y_pinn_test, train_predictions)\n",
        "plt.xlabel('True Values')\n",
        "plt.ylabel('Predictions')"
      ],
      "metadata": {
        "colab": {
          "base_uri": "https://localhost:8080/",
          "height": 467
        },
        "id": "E4iO-Do2Bmwg",
        "outputId": "c5bdde5b-d987-4e22-8761-d69dd7b3f765"
      },
      "execution_count": 24,
      "outputs": [
        {
          "output_type": "execute_result",
          "data": {
            "text/plain": [
              "Text(0, 0.5, 'Predictions')"
            ]
          },
          "metadata": {},
          "execution_count": 24
        },
        {
          "output_type": "display_data",
          "data": {
            "text/plain": [
              "<Figure size 640x480 with 1 Axes>"
            ],
            "image/png": "[encoded data removed]"
          },
          "metadata": {}
        }
      ]
    }
  ],
  "metadata": {
    "kernelspec": {
      "display_name": "Python 3",
      "language": "python",
      "name": "python3"
    },
    "language_info": {
      "codemirror_mode": {
        "name": "ipython",
        "version": 3
      },
      "file_extension": ".py",
      "mimetype": "text/x-python",
      "name": "python",
      "nbconvert_exporter": "python",
      "pygments_lexer": "ipython3",
      "version": "3.8.3"
    },
    "colab": {
      "provenance": [],
      "include_colab_link": true
    }
  },
  "nbformat": 4,
  "nbformat_minor": 0
}